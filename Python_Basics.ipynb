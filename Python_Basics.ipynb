{
  "nbformat": 4,
  "nbformat_minor": 0,
  "metadata": {
    "colab": {
      "provenance": []
    },
    "kernelspec": {
      "name": "python3",
      "display_name": "Python 3"
    },
    "language_info": {
      "name": "python"
    }
  },
  "cells": [
    {
      "cell_type": "markdown",
      "source": [
        "# Python Basics Questions."
      ],
      "metadata": {
        "id": "xcpMnHea9i2Z"
      }
    },
    {
      "cell_type": "markdown",
      "source": [
        "1. What is Python, and why is it popular?\n",
        "   - Python is a programming Language used for Data Science, Web Development, Game Development, etc.\n",
        "   It is popular due it its nature of simplicity, versatality, easy to learn language. It also has large number of libraries like Pandas and Numpy.\n",
        "\n",
        "\n",
        "2. What is an interpreter in Python?\n",
        "   - A Python interpreter is a program that reads and executes Python code line by line, translating it into instructions the computer can understand.\n",
        "\n",
        "\n",
        "3. What are pre-defined keywords in Python?\n",
        "   - Pre-defined keywords are predefined reserved words with special meanings so the interpreter can understand them. They perform specific tasks in Python programming.\n",
        "\n",
        "\n",
        "4. Can keywords be used as variable names?\n",
        "   - No, Python keywords cannot be used as variable names.\n",
        "\n",
        "\n",
        "5. What is mutability in Python?\n",
        "   - Mutability in Python means when an object can be changed by its value or state after it has been created.\n",
        "\n",
        "\n",
        "6. Why are lists mutable, but tuples are immutable?\n",
        "   - Lists are mutable for flexibility, updation and alteration of data whereas tuples are immutable to ensure safety and efficiency, or to represent a constant data.\n",
        "\n",
        "\n",
        "7. What is the difference between “==” and “is” operators in Python?\n",
        "   - \"==\" checks if values are equal i.e., the contents of the objects are the same\n",
        "   Whereas,\n",
        "   \"is\" checks if two variables refer to the same object in memory. \"is\" is also a identity operator.\n",
        "\n",
        "8. What are logical operators in Python?\n",
        "  - In Python, logical operators are used to combine conditional statements and perform logical operations. These operators allow you to perform Boolean logic i.e., operations that result in True or False. The main logical operators in Python are:\n",
        "\n",
        "  \"AND\" opeartor: Returns True if both conditions are true.\n",
        "\n",
        "  \"OR\" operator: Returns True if at least one condition is true.\n",
        "\n",
        "  \"NOT\" operator: Reverses the truth value of a condition i.e., True becomes False, False becomes True.    \n",
        "\n",
        "9. What is type casting in Python?\n",
        "   - Type casting is a process of changing datatype of a value or object. It is done to execute operations using operators when the data type is mismatched.\n",
        "\n",
        "10. What is the difference between implicit and explicit type casting?\n",
        "    - Implicit type casting happens automatically when Python can safely promote a smaller type to a larger type\n",
        "\n",
        "      For example:                      \n",
        "      a = 10  #integer\n",
        "\n",
        "      b = 5.5  #float\n",
        "\n",
        "     result = a + b  # a is automatically converted to float for the addition\n",
        "\n",
        "     print(result)  # Output: 15.5 (float)\n",
        "     \n",
        "     Explicit casting happens when the programmer specifies how to convert one type to another               \n",
        "     For example:\n",
        "     a = 10.5  # float\n",
        "\n",
        "     b = int(a)  # manually convert float to int\n",
        "\n",
        "     print(b)  # Output: 10 (note: truncation of decimal part)\n",
        "\n",
        "11. What is the purpose of conditional statements in Python?\n",
        "    - Conditional statements allows or enables the program to make decisions based on certain criteria or conditions. It helps in analysing whether the condition is true or false\n",
        "\n",
        "12.  How does the elif statement work?\n",
        "   - The elif statement is checked only if the preceding if or elif conditions are False.\n",
        "\n",
        "        If an elif condition is True, the associated block of code is executed, and Python will skip the remaining elif and else blocks.\n",
        "\n",
        "        If none of the if or elif conditions are True, the program will execute the code inside the else block (if provided).  \n",
        "\n",
        "13. What is the difference between for and while loops?\n",
        "    - for loop is used when you want to iterate over a sequence (like a list, string, or range) or when the number of iterations is known.\n",
        "\n",
        "     while loop is when you want to repeat a block of code as long as a condition is True.\n",
        "\n",
        "14. Describe a scenario where a while loop is more suitable than a for loop.\n",
        "    - A while loop is more suitable than a for loop when the number of iterations is not known in advance, and the loop should continue running as long as a certain condition is true.\n",
        "\n",
        "     Scenario: User Input Validation\n",
        "\n",
        "     A scenario where a program needs to continuously prompt the user for their password until they enter the correct one. In this case, you don’t know how many attempts the user will need to make, so a while loop is a better fit.\n",
        "      \n",
        "     The program will keep asking the user to enter a password.\n",
        "\n",
        "     It will only stop asking when the correct password is entered.\n",
        "\n",
        "     If the user keeps entering the wrong password, the program will keep asking indefinitely (or until the correct password is entered).\n",
        "     \n",
        "                        \n",
        "\n",
        "\n"
      ],
      "metadata": {
        "id": "QKnRvqUT-dEw"
      }
    },
    {
      "cell_type": "code",
      "execution_count": 4,
      "metadata": {
        "colab": {
          "base_uri": "https://localhost:8080/"
        },
        "id": "K--jjztL9bMW",
        "outputId": "ad9aba89-d5f3-43f3-eadd-f42eddd66980"
      },
      "outputs": [
        {
          "output_type": "stream",
          "name": "stdout",
          "text": [
            "Hello, World!\n"
          ]
        }
      ],
      "source": [
        "#1. Write a Python program to print \"Hello, World!\n",
        "\n",
        "#Code:\n",
        "\n",
        "print(\"Hello, World!\")"
      ]
    },
    {
      "cell_type": "code",
      "source": [
        "#2. Write a Python program that displays your name and age\n",
        "\n",
        "#Code:\n",
        "\n",
        "name = \"Sudip\"\n",
        "age = \"22\"\n",
        "print(\"Name:\", name)\n",
        "print(\"Age:\", age)"
      ],
      "metadata": {
        "colab": {
          "base_uri": "https://localhost:8080/"
        },
        "id": "QOgvhcZkhADZ",
        "outputId": "6f0308ce-8247-4091-ebac-610051e8482a"
      },
      "execution_count": 6,
      "outputs": [
        {
          "output_type": "stream",
          "name": "stdout",
          "text": [
            "Name: Sudip\n",
            "Age: 22\n"
          ]
        }
      ]
    },
    {
      "cell_type": "code",
      "source": [
        "#3. Write code to print all the pre-defined keywords in Python using the keyword library\n",
        "\n",
        "#Code:\n",
        "\n",
        "help(\"keywords\")"
      ],
      "metadata": {
        "colab": {
          "base_uri": "https://localhost:8080/"
        },
        "id": "vZsCAljFyoWH",
        "outputId": "3c31c9c5-45c1-43ed-ecf8-fe82f639b822"
      },
      "execution_count": 7,
      "outputs": [
        {
          "output_type": "stream",
          "name": "stdout",
          "text": [
            "\n",
            "Here is a list of the Python keywords.  Enter any keyword to get more help.\n",
            "\n",
            "False               class               from                or\n",
            "None                continue            global              pass\n",
            "True                def                 if                  raise\n",
            "and                 del                 import              return\n",
            "as                  elif                in                  try\n",
            "assert              else                is                  while\n",
            "async               except              lambda              with\n",
            "await               finally             nonlocal            yield\n",
            "break               for                 not                 \n",
            "\n"
          ]
        }
      ]
    },
    {
      "cell_type": "code",
      "source": [
        "#4. Write a program that checks if a given word is a Python keyword\n",
        "\n",
        "#Code:\n",
        "\n",
        "import keyword\n",
        "\n",
        "# Get input from the user\n",
        "word = input(\"Enter a word to check if it's a Python keyword: \")\n",
        "\n",
        "# Check if the word is a Python keyword\n",
        "if keyword.iskeyword(word):\n",
        "    print(f\"'{word}' is a Python keyword.\")\n",
        "else:\n",
        "    print(f\"'{word}' is not a Python keyword.\")"
      ],
      "metadata": {
        "colab": {
          "base_uri": "https://localhost:8080/"
        },
        "id": "qyFXURVa_NMz",
        "outputId": "f3c15264-89d1-475c-d68b-e2c1d227f280"
      },
      "execution_count": 11,
      "outputs": [
        {
          "output_type": "stream",
          "name": "stdout",
          "text": [
            "Enter a word to check if it's a Python keyword: elif\n",
            "'elif' is a Python keyword.\n"
          ]
        }
      ]
    },
    {
      "cell_type": "code",
      "source": [
        "#5. Create a list and tuple in Python, and demonstrate how attempting to change an element works differently for each\n",
        "\n",
        "#Code:\n",
        "\n",
        "list = [2, 4, 6, 8, 10] #created a list\n",
        "tuple = (1, 3, 5, 7, 9) #created a tuple\n",
        "\n",
        "# Attempting to change an element in the list\n",
        "print(\"Original list:\", list)\n",
        "list[3] = 9  # Changing the element at index 3\n",
        "print(\"Modified list:\", list)\n",
        "\n",
        "# Attempting to change an element in the tuple\n",
        "print(\"Original tuple:\", tuple)\n",
        "tuple[3] = 9\n",
        "print(\"Modified tuple:\", tuple)\n",
        "\n"
      ],
      "metadata": {
        "colab": {
          "base_uri": "https://localhost:8080/",
          "height": 263
        },
        "id": "nIdHWJHc_ycN",
        "outputId": "996c1be5-61f7-46b1-c80e-1a57aaa46a51"
      },
      "execution_count": 16,
      "outputs": [
        {
          "output_type": "stream",
          "name": "stdout",
          "text": [
            "Original list: [2, 4, 6, 8, 10]\n",
            "Modified list: [2, 4, 6, 9, 10]\n",
            "Original tuple: (1, 3, 5, 7, 9)\n"
          ]
        },
        {
          "output_type": "error",
          "ename": "TypeError",
          "evalue": "'tuple' object does not support item assignment",
          "traceback": [
            "\u001b[0;31m---------------------------------------------------------------------------\u001b[0m",
            "\u001b[0;31mTypeError\u001b[0m                                 Traceback (most recent call last)",
            "\u001b[0;32m<ipython-input-16-745e7c22e910>\u001b[0m in \u001b[0;36m<cell line: 0>\u001b[0;34m()\u001b[0m\n\u001b[1;32m     13\u001b[0m \u001b[0;31m# Attempting to change an element in the tuple\u001b[0m\u001b[0;34m\u001b[0m\u001b[0;34m\u001b[0m\u001b[0m\n\u001b[1;32m     14\u001b[0m \u001b[0mprint\u001b[0m\u001b[0;34m(\u001b[0m\u001b[0;34m\"Original tuple:\"\u001b[0m\u001b[0;34m,\u001b[0m \u001b[0mtuple\u001b[0m\u001b[0;34m)\u001b[0m\u001b[0;34m\u001b[0m\u001b[0;34m\u001b[0m\u001b[0m\n\u001b[0;32m---> 15\u001b[0;31m \u001b[0mtuple\u001b[0m\u001b[0;34m[\u001b[0m\u001b[0;36m3\u001b[0m\u001b[0;34m]\u001b[0m \u001b[0;34m=\u001b[0m \u001b[0;36m9\u001b[0m\u001b[0;34m\u001b[0m\u001b[0;34m\u001b[0m\u001b[0m\n\u001b[0m\u001b[1;32m     16\u001b[0m \u001b[0mprint\u001b[0m\u001b[0;34m(\u001b[0m\u001b[0;34m\"Modified tuple:\"\u001b[0m\u001b[0;34m,\u001b[0m \u001b[0mtuple\u001b[0m\u001b[0;34m)\u001b[0m\u001b[0;34m\u001b[0m\u001b[0;34m\u001b[0m\u001b[0m\n\u001b[1;32m     17\u001b[0m \u001b[0;34m\u001b[0m\u001b[0m\n",
            "\u001b[0;31mTypeError\u001b[0m: 'tuple' object does not support item assignment"
          ]
        }
      ]
    },
    {
      "cell_type": "code",
      "source": [
        "#6. Write a function to demonstrate the behavior of mutable and immutable arguments\n",
        "\n",
        "#Code:\n",
        "\n",
        "def demonstrate_mutable_immutable(mutable_arg, immutable_arg):\n",
        "    # Modifying the mutable argument (list)\n",
        "    mutable_arg.append(4)  # This will modify the original list\n",
        "    print(f\"Modified mutable argument inside the function: {mutable_arg}\")\n",
        "\n",
        "    # Trying to modify the immutable argument (integer)\n",
        "    immutable_arg += 10  # This creates a new integer, but doesn't affect the original\n",
        "    print(f\"Modified immutable argument inside the function: {immutable_arg}\")\n",
        "\n",
        "# Test the function\n",
        "my_list = [1, 2, 3]\n",
        "my_number = 5\n",
        "\n",
        "print(\"Original list before function call:\", my_list)\n",
        "print(\"Original number before function call:\", my_number)\n",
        "\n",
        "# Calling the function\n",
        "demonstrate_mutable_immutable(my_list, my_number)\n",
        "\n",
        "print(\"\\nOriginal list after function call:\", my_list)  # List is modified\n",
        "print(\"Original number after function call:\", my_number)  # Number is not modified\n"
      ],
      "metadata": {
        "colab": {
          "base_uri": "https://localhost:8080/"
        },
        "id": "tKaR8bP_BtdC",
        "outputId": "e1ee5352-b4ea-44e0-c905-e82e226935b5"
      },
      "execution_count": 2,
      "outputs": [
        {
          "output_type": "stream",
          "name": "stdout",
          "text": [
            "Original list before function call: [1, 2, 3]\n",
            "Original number before function call: 5\n",
            "Modified mutable argument inside the function: [1, 2, 3, 4]\n",
            "Modified immutable argument inside the function: 15\n",
            "\n",
            "Original list after function call: [1, 2, 3, 4]\n",
            "Original number after function call: 5\n"
          ]
        }
      ]
    },
    {
      "cell_type": "code",
      "source": [
        "#7. Write a function to demonstrate the behavior of mutable and immutable arguments\n",
        "\n",
        "#Code:\n",
        "\n",
        "#Same as question 6 above"
      ],
      "metadata": {
        "id": "kHm0t_l0E7Gm"
      },
      "execution_count": null,
      "outputs": []
    },
    {
      "cell_type": "code",
      "source": [
        "#8. Write a program to demonstrate the use of logical operators\n",
        "\n",
        "#Code:\n",
        "\n",
        "# Define some conditions\n",
        "x = 10\n",
        "y = 20\n",
        "z = 5\n",
        "\n",
        "# Demonstrating 'and' operator\n",
        "if x < y and y > z:\n",
        "    print(\"Both conditions are true using 'and'\")\n",
        "\n",
        "# Demonstrating 'or' operator\n",
        "if x > y or y > z:\n",
        "    print(\"At least one condition is true using 'or'\")\n",
        "\n",
        "# Demonstrating 'not' operator\n",
        "if not x == z:\n",
        "    print(\"'not' operator makes the condition true when x is not equal to z\")\n",
        "\n",
        "# Combining logical operators\n",
        "if (x < y and y > z) or (x == z):\n",
        "    print(\"The combined condition with 'and' and 'or' is true\")\n"
      ],
      "metadata": {
        "colab": {
          "base_uri": "https://localhost:8080/"
        },
        "id": "Dstv5MUFFQpO",
        "outputId": "f8b458dd-8099-4254-a063-81774d54b486"
      },
      "execution_count": 18,
      "outputs": [
        {
          "output_type": "stream",
          "name": "stdout",
          "text": [
            "Both conditions are true using 'and'\n",
            "At least one condition is true using 'or'\n",
            "'not' operator makes the condition true when x is not equal to z\n",
            "The combined condition with 'and' and 'or' is true\n"
          ]
        }
      ]
    },
    {
      "cell_type": "code",
      "source": [
        "#9. Write a Python program to convert user input from string to integer, float, and boolean types.\n",
        "\n",
        "#Code:\n",
        "\n"
      ],
      "metadata": {
        "id": "n45u4qQrFQxN"
      },
      "execution_count": null,
      "outputs": []
    },
    {
      "cell_type": "code",
      "source": [
        "#10. Write code to demonstrate type casting with list elements\n",
        "\n",
        "#Code:\n",
        "\n"
      ],
      "metadata": {
        "id": "YC9J1ZJaE7Ue"
      },
      "execution_count": null,
      "outputs": []
    },
    {
      "cell_type": "code",
      "source": [
        "#11. Write a program that checks if a number is positive, negative, or zero\n",
        "\n",
        "#Code:\n",
        "\n",
        "# Take input from the user\n",
        "number = float(input(\"Enter a number: \"))\n",
        "\n",
        "# Check if the number is positive, negative, or zero\n",
        "if number > 0:\n",
        "    print(\"The number is positive.\")\n",
        "elif number < 0:\n",
        "    print(\"The number is negative.\")\n",
        "else:\n",
        "    print(\"The number is zero.\")\n"
      ],
      "metadata": {
        "colab": {
          "base_uri": "https://localhost:8080/"
        },
        "id": "lrTFpgcoE70Z",
        "outputId": "9e80d81e-bdf4-4ac2-f9de-6bb86ec370d3"
      },
      "execution_count": 21,
      "outputs": [
        {
          "output_type": "stream",
          "name": "stdout",
          "text": [
            "Enter a number: 8\n",
            "The number is positive.\n"
          ]
        }
      ]
    },
    {
      "cell_type": "code",
      "source": [
        "#12.  Write a for loop to print numbers from 1 to 10\n",
        "\n",
        "#Code:\n",
        "\n",
        "# Using a for loop to print numbers from 1 to 10\n",
        "for i in range(1, 11):\n",
        "    print(i)\n"
      ],
      "metadata": {
        "colab": {
          "base_uri": "https://localhost:8080/"
        },
        "id": "bSvh9RqQHQSu",
        "outputId": "361e317e-3378-497f-8f8c-a6a51b7bfa75"
      },
      "execution_count": 27,
      "outputs": [
        {
          "output_type": "stream",
          "name": "stdout",
          "text": [
            "1\n",
            "2\n",
            "3\n",
            "4\n",
            "5\n",
            "6\n",
            "7\n",
            "8\n",
            "9\n",
            "10\n"
          ]
        }
      ]
    },
    {
      "cell_type": "code",
      "source": [
        "#13.  Write a Python program to find the sum of all even numbers between 1 and 50\n",
        "\n",
        "#Code:\n",
        "\n",
        "# Initialize a variable to store the sum\n",
        "sum_even_numbers = 0\n",
        "\n",
        "# Loop through numbers from 1 to 50\n",
        "for num in range(1, 51):\n",
        "    # Check if the number is even\n",
        "    if num % 2 == 0:\n",
        "        sum_even_numbers += num  # Add the even number to the sum\n",
        "\n",
        "# Print the result\n",
        "print(\"Sum of all even numbers between 1 and 50:\", sum_even_numbers)\n"
      ],
      "metadata": {
        "colab": {
          "base_uri": "https://localhost:8080/"
        },
        "id": "2cF5QJizH2Y_",
        "outputId": "cf9cd643-b369-4229-ac83-f3dce16098a7"
      },
      "execution_count": 28,
      "outputs": [
        {
          "output_type": "stream",
          "name": "stdout",
          "text": [
            "Sum of all even numbers between 1 and 50: 650\n"
          ]
        }
      ]
    },
    {
      "cell_type": "code",
      "source": [
        "#14. Write a program to reverse a string using a while loop\n",
        "\n",
        "#Code:\n",
        "\n",
        "# Input string from the user\n",
        "input_string = input(\"Enter a string to reverse: \")\n",
        "\n",
        "# Initialize an empty string to store the reversed string\n",
        "reversed_string = \"\"\n",
        "\n",
        "# Set a variable for the length of the input string\n",
        "index = len(input_string) - 1\n",
        "\n",
        "# Use a while loop to reverse the string\n",
        "while index >= 0:\n",
        "    reversed_string += input_string[index]\n",
        "    index -= 1\n",
        "\n",
        "# Print the reversed string\n",
        "print(\"Reversed string:\", reversed_string)\n",
        "\n"
      ],
      "metadata": {
        "colab": {
          "base_uri": "https://localhost:8080/"
        },
        "id": "CXWOgaDRIv2W",
        "outputId": "94ffcf8b-61f7-494f-b068-f851629daf09"
      },
      "execution_count": 29,
      "outputs": [
        {
          "output_type": "stream",
          "name": "stdout",
          "text": [
            "Enter a string to reverse: Yogesh\n",
            "Reversed string: hsegoY\n"
          ]
        }
      ]
    },
    {
      "cell_type": "code",
      "source": [
        "#15. Write a Python program to calculate the factorial of a number provided by the user using a while loop\n",
        "\n",
        "#Code:\n",
        "\n",
        "# Take input from the user\n",
        "number = int(input(\"Enter a number to calculate its factorial: \"))\n",
        "\n",
        "# Initialize the factorial to 1\n",
        "factorial = 1\n",
        "\n",
        "# Check if the number is negative\n",
        "if number < 0:\n",
        "    print(\"Factorial does not exist for negative numbers.\")\n",
        "else:\n",
        "    # Use a while loop to calculate the factorial\n",
        "    while number > 0:\n",
        "        factorial *= number\n",
        "        number -= 1\n",
        "\n",
        "    # Print the factorial result\n",
        "    print(\"Factorial is:\", factorial)\n"
      ],
      "metadata": {
        "colab": {
          "base_uri": "https://localhost:8080/"
        },
        "id": "JKq0UInuJGMI",
        "outputId": "5610d2b8-5a86-4933-d072-5c6753453003"
      },
      "execution_count": 1,
      "outputs": [
        {
          "output_type": "stream",
          "name": "stdout",
          "text": [
            "Enter a number to calculate its factorial: 5\n",
            "Factorial is: 120\n"
          ]
        }
      ]
    },
    {
      "cell_type": "code",
      "source": [],
      "metadata": {
        "id": "tkJnvgltJnCS"
      },
      "execution_count": 32,
      "outputs": []
    }
  ]
}